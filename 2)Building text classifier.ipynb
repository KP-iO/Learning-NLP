{
  "nbformat": 4,
  "nbformat_minor": 0,
  "metadata": {
    "colab": {
      "provenance": [],
      "collapsed_sections": [],
      "include_colab_link": true
    },
    "kernelspec": {
      "name": "python3",
      "display_name": "Python 3"
    }
  },
  "cells": [
    {
      "cell_type": "markdown",
      "metadata": {
        "id": "view-in-github",
        "colab_type": "text"
      },
      "source": [
        "<a href=\"https://colab.research.google.com/github/KP-iO/Learning-NLP/blob/main/2)Building%20text%20classifier.ipynb\" target=\"_parent\"><img src=\"https://colab.research.google.com/assets/colab-badge.svg\" alt=\"Open In Colab\"/></a>"
      ]
    },
    {
      "cell_type": "markdown",
      "metadata": {
        "id": "lTguFckTEDWd"
      },
      "source": [
        "# Classifying News Headlines\n",
        "\n",
        "This notebook explains the classification of news headlines as sarcastic and non-sarcastic. We are using the same headlines data as used before.\n"
      ]
    },
    {
      "cell_type": "code",
      "metadata": {
        "id": "9mW3Mt2q5kL2",
        "colab": {
          "base_uri": "https://localhost:8080/"
        },
        "outputId": "781b11b8-de55-40d1-9aff-275ee4312af1"
      },
      "source": [
        "##import the required libraries and APIs\n",
        "import numpy as np\n",
        "import tensorflow as tf\n",
        "from tensorflow.keras.preprocessing.text import Tokenizer\n",
        "from tensorflow.keras.preprocessing.sequence import pad_sequences\n",
        "\n",
        "print(tf.__version__)"
      ],
      "execution_count": 8,
      "outputs": [
        {
          "output_type": "stream",
          "name": "stdout",
          "text": [
            "2.9.2\n"
          ]
        }
      ]
    },
    {
      "cell_type": "markdown",
      "metadata": {
        "id": "2rhw0j_s5UZ2"
      },
      "source": [
        "## Downloading the News Headlines data"
      ]
    },
    {
      "cell_type": "code",
      "metadata": {
        "id": "XlPflpsyyp5a"
      },
      "source": [
        "!wget --no-check-certificate \\\n",
        "    https://storage.googleapis.com/wdd-2-node.appspot.com/x1.json \\\n",
        "    -o /tmp/headlines.json"
      ],
      "execution_count": 9,
      "outputs": []
    },
    {
      "cell_type": "code",
      "metadata": {
        "colab": {
          "base_uri": "https://localhost:8080/",
          "height": 206
        },
        "id": "qfu_3u4yWjJy",
        "outputId": "727a136d-aee8-4235-ac95-27ba26cfd69f"
      },
      "source": [
        "##read the the json file using pandas\n",
        "import pandas as pd\n",
        "\n",
        "data = pd.read_json(\"./x1.json\")\n",
        "data.head()"
      ],
      "execution_count": 10,
      "outputs": [
        {
          "output_type": "execute_result",
          "data": {
            "text/plain": [
              "   is_sarcastic                                           headline  \\\n",
              "0             1  thirtysomething scientists unveil doomsday clo...   \n",
              "1             0  dem rep. totally nails why congress is falling...   \n",
              "2             0  eat your veggies: 9 deliciously different recipes   \n",
              "3             1  inclement weather prevents liar from getting t...   \n",
              "4             1  mother comes pretty close to using word 'strea...   \n",
              "\n",
              "                                        article_link  \n",
              "0  https://www.theonion.com/thirtysomething-scien...  \n",
              "1  https://www.huffingtonpost.com/entry/donna-edw...  \n",
              "2  https://www.huffingtonpost.com/entry/eat-your-...  \n",
              "3  https://local.theonion.com/inclement-weather-p...  \n",
              "4  https://www.theonion.com/mother-comes-pretty-c...  "
            ],
            "text/html": [
              "\n",
              "  <div id=\"df-04939710-d468-47a8-9cb5-7712144082a7\">\n",
              "    <div class=\"colab-df-container\">\n",
              "      <div>\n",
              "<style scoped>\n",
              "    .dataframe tbody tr th:only-of-type {\n",
              "        vertical-align: middle;\n",
              "    }\n",
              "\n",
              "    .dataframe tbody tr th {\n",
              "        vertical-align: top;\n",
              "    }\n",
              "\n",
              "    .dataframe thead th {\n",
              "        text-align: right;\n",
              "    }\n",
              "</style>\n",
              "<table border=\"1\" class=\"dataframe\">\n",
              "  <thead>\n",
              "    <tr style=\"text-align: right;\">\n",
              "      <th></th>\n",
              "      <th>is_sarcastic</th>\n",
              "      <th>headline</th>\n",
              "      <th>article_link</th>\n",
              "    </tr>\n",
              "  </thead>\n",
              "  <tbody>\n",
              "    <tr>\n",
              "      <th>0</th>\n",
              "      <td>1</td>\n",
              "      <td>thirtysomething scientists unveil doomsday clo...</td>\n",
              "      <td>https://www.theonion.com/thirtysomething-scien...</td>\n",
              "    </tr>\n",
              "    <tr>\n",
              "      <th>1</th>\n",
              "      <td>0</td>\n",
              "      <td>dem rep. totally nails why congress is falling...</td>\n",
              "      <td>https://www.huffingtonpost.com/entry/donna-edw...</td>\n",
              "    </tr>\n",
              "    <tr>\n",
              "      <th>2</th>\n",
              "      <td>0</td>\n",
              "      <td>eat your veggies: 9 deliciously different recipes</td>\n",
              "      <td>https://www.huffingtonpost.com/entry/eat-your-...</td>\n",
              "    </tr>\n",
              "    <tr>\n",
              "      <th>3</th>\n",
              "      <td>1</td>\n",
              "      <td>inclement weather prevents liar from getting t...</td>\n",
              "      <td>https://local.theonion.com/inclement-weather-p...</td>\n",
              "    </tr>\n",
              "    <tr>\n",
              "      <th>4</th>\n",
              "      <td>1</td>\n",
              "      <td>mother comes pretty close to using word 'strea...</td>\n",
              "      <td>https://www.theonion.com/mother-comes-pretty-c...</td>\n",
              "    </tr>\n",
              "  </tbody>\n",
              "</table>\n",
              "</div>\n",
              "      <button class=\"colab-df-convert\" onclick=\"convertToInteractive('df-04939710-d468-47a8-9cb5-7712144082a7')\"\n",
              "              title=\"Convert this dataframe to an interactive table.\"\n",
              "              style=\"display:none;\">\n",
              "        \n",
              "  <svg xmlns=\"http://www.w3.org/2000/svg\" height=\"24px\"viewBox=\"0 0 24 24\"\n",
              "       width=\"24px\">\n",
              "    <path d=\"M0 0h24v24H0V0z\" fill=\"none\"/>\n",
              "    <path d=\"M18.56 5.44l.94 2.06.94-2.06 2.06-.94-2.06-.94-.94-2.06-.94 2.06-2.06.94zm-11 1L8.5 8.5l.94-2.06 2.06-.94-2.06-.94L8.5 2.5l-.94 2.06-2.06.94zm10 10l.94 2.06.94-2.06 2.06-.94-2.06-.94-.94-2.06-.94 2.06-2.06.94z\"/><path d=\"M17.41 7.96l-1.37-1.37c-.4-.4-.92-.59-1.43-.59-.52 0-1.04.2-1.43.59L10.3 9.45l-7.72 7.72c-.78.78-.78 2.05 0 2.83L4 21.41c.39.39.9.59 1.41.59.51 0 1.02-.2 1.41-.59l7.78-7.78 2.81-2.81c.8-.78.8-2.07 0-2.86zM5.41 20L4 18.59l7.72-7.72 1.47 1.35L5.41 20z\"/>\n",
              "  </svg>\n",
              "      </button>\n",
              "      \n",
              "  <style>\n",
              "    .colab-df-container {\n",
              "      display:flex;\n",
              "      flex-wrap:wrap;\n",
              "      gap: 12px;\n",
              "    }\n",
              "\n",
              "    .colab-df-convert {\n",
              "      background-color: #E8F0FE;\n",
              "      border: none;\n",
              "      border-radius: 50%;\n",
              "      cursor: pointer;\n",
              "      display: none;\n",
              "      fill: #1967D2;\n",
              "      height: 32px;\n",
              "      padding: 0 0 0 0;\n",
              "      width: 32px;\n",
              "    }\n",
              "\n",
              "    .colab-df-convert:hover {\n",
              "      background-color: #E2EBFA;\n",
              "      box-shadow: 0px 1px 2px rgba(60, 64, 67, 0.3), 0px 1px 3px 1px rgba(60, 64, 67, 0.15);\n",
              "      fill: #174EA6;\n",
              "    }\n",
              "\n",
              "    [theme=dark] .colab-df-convert {\n",
              "      background-color: #3B4455;\n",
              "      fill: #D2E3FC;\n",
              "    }\n",
              "\n",
              "    [theme=dark] .colab-df-convert:hover {\n",
              "      background-color: #434B5C;\n",
              "      box-shadow: 0px 1px 3px 1px rgba(0, 0, 0, 0.15);\n",
              "      filter: drop-shadow(0px 1px 2px rgba(0, 0, 0, 0.3));\n",
              "      fill: #FFFFFF;\n",
              "    }\n",
              "  </style>\n",
              "\n",
              "      <script>\n",
              "        const buttonEl =\n",
              "          document.querySelector('#df-04939710-d468-47a8-9cb5-7712144082a7 button.colab-df-convert');\n",
              "        buttonEl.style.display =\n",
              "          google.colab.kernel.accessAllowed ? 'block' : 'none';\n",
              "\n",
              "        async function convertToInteractive(key) {\n",
              "          const element = document.querySelector('#df-04939710-d468-47a8-9cb5-7712144082a7');\n",
              "          const dataTable =\n",
              "            await google.colab.kernel.invokeFunction('convertToInteractive',\n",
              "                                                     [key], {});\n",
              "          if (!dataTable) return;\n",
              "\n",
              "          const docLinkHtml = 'Like what you see? Visit the ' +\n",
              "            '<a target=\"_blank\" href=https://colab.research.google.com/notebooks/data_table.ipynb>data table notebook</a>'\n",
              "            + ' to learn more about interactive tables.';\n",
              "          element.innerHTML = '';\n",
              "          dataTable['output_type'] = 'display_data';\n",
              "          await google.colab.output.renderOutput(dataTable, element);\n",
              "          const docLink = document.createElement('div');\n",
              "          docLink.innerHTML = docLinkHtml;\n",
              "          element.appendChild(docLink);\n",
              "        }\n",
              "      </script>\n",
              "    </div>\n",
              "  </div>\n",
              "  "
            ]
          },
          "metadata": {},
          "execution_count": 10
        }
      ]
    },
    {
      "cell_type": "code",
      "source": [
        "data.info()"
      ],
      "metadata": {
        "colab": {
          "base_uri": "https://localhost:8080/"
        },
        "id": "ZO9D0yN_DyuP",
        "outputId": "2f2d4a8c-c3fd-4fb3-bc95-2ca1cb7ec8b5"
      },
      "execution_count": 11,
      "outputs": [
        {
          "output_type": "stream",
          "name": "stdout",
          "text": [
            "<class 'pandas.core.frame.DataFrame'>\n",
            "RangeIndex: 28619 entries, 0 to 28618\n",
            "Data columns (total 3 columns):\n",
            " #   Column        Non-Null Count  Dtype \n",
            "---  ------        --------------  ----- \n",
            " 0   is_sarcastic  28619 non-null  int64 \n",
            " 1   headline      28619 non-null  object\n",
            " 2   article_link  28619 non-null  object\n",
            "dtypes: int64(1), object(2)\n",
            "memory usage: 670.9+ KB\n"
          ]
        }
      ]
    },
    {
      "cell_type": "code",
      "metadata": {
        "id": "2Q5KWU5sarBZ"
      },
      "source": [
        "##store headlines and labels in respective lists\n",
        "headlines = list(data['headline'])\n",
        "labels = list(data['is_sarcastic'])"
      ],
      "execution_count": 12,
      "outputs": []
    },
    {
      "cell_type": "markdown",
      "metadata": {
        "id": "XrePJ_GANUzv"
      },
      "source": [
        "## Set the parameters"
      ]
    },
    {
      "cell_type": "code",
      "metadata": {
        "id": "SaOVx5_QWZJw"
      },
      "source": [
        "##define tokenizing and padding parameters\n",
        "vocab_size = 10000\n",
        "max_length = 120\n",
        "embedding_dim = 16\n",
        "trunc_type='post'\n",
        "padding_type='post'\n",
        "oov_tok = \"<OOV>\"\n",
        "training_size = 20000"
      ],
      "execution_count": 13,
      "outputs": []
    },
    {
      "cell_type": "markdown",
      "metadata": {
        "id": "TOa0z54JHTtq"
      },
      "source": [
        "## Splitting the training and testing set"
      ]
    },
    {
      "cell_type": "code",
      "metadata": {
        "id": "iPCBLuAYWg-m"
      },
      "source": [
        "##sentences\n",
        "# Go from zero to the training size\n",
        "training_sentences = headlines[0:training_size]\n",
        "# Go from training size to the emd of the array.\n",
        "testing_sentences = headlines[training_size:]\n",
        "\n",
        "##labels\n",
        "# Go from zero to the training size\n",
        "training_labels = labels[0:training_size]\n",
        "# Go from training size to the emd of the array.\n",
        "testing_labels = labels[training_size:]"
      ],
      "execution_count": 14,
      "outputs": []
    },
    {
      "cell_type": "markdown",
      "metadata": {
        "id": "2YPzEKN-NnTx"
      },
      "source": [
        "## Preprocess sentences\n",
        "![image.png](data:image/png;base64,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)\n"
      ]
    },
    {
      "cell_type": "code",
      "metadata": {
        "id": "N4k_tDKJYSCL"
      },
      "source": [
        "# Use tokenizer\n",
        "tokenizer = Tokenizer(num_words=vocab_size, oov_token=oov_tok)\n",
        "# train tokenizer on training sentences\n",
        "tokenizer.fit_on_texts(training_sentences)\n",
        "# Get the index of the tokenizer \n",
        "# \"The cat sat on the mat.\" It will create a dictionary s.t. word_index[\"the\"] = 1; word_index[\"cat\"] = 2 it is word -> index dictionary so every word gets a unique integer value\n",
        "word_index = tokenizer.word_index\n",
        "# turn texts into sequences\n",
        "training_sequences = tokenizer.texts_to_sequences(training_sentences)\n",
        "# pad the training sentences\n",
        "training_padded = pad_sequences(training_sequences, maxlen=max_length, padding=padding_type, truncating=trunc_type)\n",
        "\n",
        "# turn texts into sequences\n",
        "testing_sequences = tokenizer.texts_to_sequences(testing_sentences)\n",
        "# pad the training sentences\n",
        "testing_padded = pad_sequences(testing_sequences, maxlen=max_length, padding=padding_type, truncating=trunc_type)"
      ],
      "execution_count": 18,
      "outputs": []
    },
    {
      "cell_type": "code",
      "metadata": {
        "id": "hFZGH6WXeZAZ"
      },
      "source": [
        "# convert lists into numpy arrays to make it work with TensorFlow 2.x\n",
        "training_padded = np.array(training_padded)\n",
        "training_labels = np.array(training_labels)\n",
        "testing_padded = np.array(testing_padded)\n",
        "testing_labels = np.array(testing_labels)"
      ],
      "execution_count": 19,
      "outputs": []
    },
    {
      "cell_type": "markdown",
      "metadata": {
        "id": "ZpBlIwAz7InY"
      },
      "source": [
        "## Define the neural network model with the following layers:\n",
        "1. Embedding layer\n",
        "2. Global Average pooling layer(1D)\n",
        "3. Dense layer with 24 nodes\n",
        "4. Output Dense layer with `sigmoid` activation "
      ]
    },
    {
      "cell_type": "code",
      "metadata": {
        "id": "JdDjMIDFebsD"
      },
      "source": [
        "model = tf.keras.Sequential([\n",
        "    tf.keras.layers.Embedding(vocab_size, embedding_dim, input_length=max_length),\n",
        "    tf.keras.layers.GlobalAveragePooling1D(),\n",
        "    tf.keras.layers.Dense(24, activation='relu'),\n",
        "    tf.keras.layers.Dense(1, activation='sigmoid')\n",
        "])\n",
        "\n",
        "##compile the model\n",
        "model.compile(loss='binary_crossentropy',optimizer='adam',metrics=['accuracy'])"
      ],
      "execution_count": 20,
      "outputs": []
    },
    {
      "cell_type": "code",
      "metadata": {
        "colab": {
          "base_uri": "https://localhost:8080/"
        },
        "id": "si5PeFv4ed5J",
        "outputId": "096be9a1-9992-4bd5-e7ff-bac2a7f1afd2"
      },
      "source": [
        "model.summary()"
      ],
      "execution_count": 21,
      "outputs": [
        {
          "output_type": "stream",
          "name": "stdout",
          "text": [
            "Model: \"sequential\"\n",
            "_________________________________________________________________\n",
            " Layer (type)                Output Shape              Param #   \n",
            "=================================================================\n",
            " embedding (Embedding)       (None, 120, 16)           160000    \n",
            "                                                                 \n",
            " global_average_pooling1d (G  (None, 16)               0         \n",
            " lobalAveragePooling1D)                                          \n",
            "                                                                 \n",
            " dense (Dense)               (None, 24)                408       \n",
            "                                                                 \n",
            " dense_1 (Dense)             (None, 1)                 25        \n",
            "                                                                 \n",
            "=================================================================\n",
            "Total params: 160,433\n",
            "Trainable params: 160,433\n",
            "Non-trainable params: 0\n",
            "_________________________________________________________________\n"
          ]
        }
      ]
    },
    {
      "cell_type": "markdown",
      "metadata": {
        "id": "q4Sk9WRYHbRh"
      },
      "source": [
        "## Train the model\n",
        "\n",
        "Save it into history"
      ]
    },
    {
      "cell_type": "code",
      "metadata": {
        "colab": {
          "base_uri": "https://localhost:8080/"
        },
        "id": "uuejoPk0efeb",
        "outputId": "135302ee-649c-499f-efe3-59ebfedd2820"
      },
      "source": [
        "num_epochs = 30\n",
        "history = model.fit(training_padded, \n",
        "                    training_labels, \n",
        "                    epochs=num_epochs, \n",
        "                    validation_data=(testing_padded, testing_labels), \n",
        "                    verbose=2)"
      ],
      "execution_count": 22,
      "outputs": [
        {
          "output_type": "stream",
          "name": "stdout",
          "text": [
            "Epoch 1/30\n",
            "625/625 - 4s - loss: 0.6793 - accuracy: 0.5612 - val_loss: 0.6213 - val_accuracy: 0.7358 - 4s/epoch - 7ms/step\n",
            "Epoch 2/30\n",
            "625/625 - 3s - loss: 0.4723 - accuracy: 0.8151 - val_loss: 0.3932 - val_accuracy: 0.8337 - 3s/epoch - 5ms/step\n",
            "Epoch 3/30\n",
            "625/625 - 3s - loss: 0.3340 - accuracy: 0.8663 - val_loss: 0.3486 - val_accuracy: 0.8510 - 3s/epoch - 5ms/step\n",
            "Epoch 4/30\n",
            "625/625 - 3s - loss: 0.2792 - accuracy: 0.8909 - val_loss: 0.3338 - val_accuracy: 0.8559 - 3s/epoch - 5ms/step\n",
            "Epoch 5/30\n",
            "625/625 - 3s - loss: 0.2428 - accuracy: 0.9074 - val_loss: 0.3353 - val_accuracy: 0.8550 - 3s/epoch - 5ms/step\n",
            "Epoch 6/30\n",
            "625/625 - 3s - loss: 0.2143 - accuracy: 0.9181 - val_loss: 0.3456 - val_accuracy: 0.8518 - 3s/epoch - 5ms/step\n",
            "Epoch 7/30\n",
            "625/625 - 4s - loss: 0.1917 - accuracy: 0.9275 - val_loss: 0.3412 - val_accuracy: 0.8552 - 4s/epoch - 7ms/step\n",
            "Epoch 8/30\n",
            "625/625 - 3s - loss: 0.1737 - accuracy: 0.9357 - val_loss: 0.3523 - val_accuracy: 0.8539 - 3s/epoch - 5ms/step\n",
            "Epoch 9/30\n",
            "625/625 - 3s - loss: 0.1583 - accuracy: 0.9424 - val_loss: 0.3664 - val_accuracy: 0.8478 - 3s/epoch - 5ms/step\n",
            "Epoch 10/30\n",
            "625/625 - 4s - loss: 0.1441 - accuracy: 0.9492 - val_loss: 0.3804 - val_accuracy: 0.8484 - 4s/epoch - 7ms/step\n",
            "Epoch 11/30\n",
            "625/625 - 4s - loss: 0.1324 - accuracy: 0.9538 - val_loss: 0.4078 - val_accuracy: 0.8410 - 4s/epoch - 6ms/step\n",
            "Epoch 12/30\n",
            "625/625 - 4s - loss: 0.1209 - accuracy: 0.9578 - val_loss: 0.4199 - val_accuracy: 0.8423 - 4s/epoch - 6ms/step\n",
            "Epoch 13/30\n",
            "625/625 - 3s - loss: 0.1116 - accuracy: 0.9615 - val_loss: 0.4414 - val_accuracy: 0.8402 - 3s/epoch - 5ms/step\n",
            "Epoch 14/30\n",
            "625/625 - 3s - loss: 0.1033 - accuracy: 0.9656 - val_loss: 0.4647 - val_accuracy: 0.8372 - 3s/epoch - 6ms/step\n",
            "Epoch 15/30\n",
            "625/625 - 4s - loss: 0.0950 - accuracy: 0.9682 - val_loss: 0.5018 - val_accuracy: 0.8286 - 4s/epoch - 7ms/step\n",
            "Epoch 16/30\n",
            "625/625 - 3s - loss: 0.0876 - accuracy: 0.9706 - val_loss: 0.5168 - val_accuracy: 0.8334 - 3s/epoch - 5ms/step\n",
            "Epoch 17/30\n",
            "625/625 - 3s - loss: 0.0818 - accuracy: 0.9729 - val_loss: 0.5455 - val_accuracy: 0.8301 - 3s/epoch - 5ms/step\n",
            "Epoch 18/30\n",
            "625/625 - 3s - loss: 0.0758 - accuracy: 0.9747 - val_loss: 0.5873 - val_accuracy: 0.8255 - 3s/epoch - 6ms/step\n",
            "Epoch 19/30\n",
            "625/625 - 3s - loss: 0.0708 - accuracy: 0.9766 - val_loss: 0.6159 - val_accuracy: 0.8235 - 3s/epoch - 6ms/step\n",
            "Epoch 20/30\n",
            "625/625 - 3s - loss: 0.0655 - accuracy: 0.9794 - val_loss: 0.6378 - val_accuracy: 0.8225 - 3s/epoch - 5ms/step\n",
            "Epoch 21/30\n",
            "625/625 - 4s - loss: 0.0596 - accuracy: 0.9812 - val_loss: 0.6724 - val_accuracy: 0.8213 - 4s/epoch - 6ms/step\n",
            "Epoch 22/30\n",
            "625/625 - 3s - loss: 0.0564 - accuracy: 0.9825 - val_loss: 0.7096 - val_accuracy: 0.8202 - 3s/epoch - 5ms/step\n",
            "Epoch 23/30\n",
            "625/625 - 3s - loss: 0.0533 - accuracy: 0.9837 - val_loss: 0.7367 - val_accuracy: 0.8195 - 3s/epoch - 5ms/step\n",
            "Epoch 24/30\n",
            "625/625 - 3s - loss: 0.0490 - accuracy: 0.9846 - val_loss: 0.7736 - val_accuracy: 0.8161 - 3s/epoch - 5ms/step\n",
            "Epoch 25/30\n",
            "625/625 - 3s - loss: 0.0442 - accuracy: 0.9877 - val_loss: 0.8092 - val_accuracy: 0.8161 - 3s/epoch - 5ms/step\n",
            "Epoch 26/30\n",
            "625/625 - 3s - loss: 0.0412 - accuracy: 0.9882 - val_loss: 0.8475 - val_accuracy: 0.8137 - 3s/epoch - 5ms/step\n",
            "Epoch 27/30\n",
            "625/625 - 3s - loss: 0.0395 - accuracy: 0.9889 - val_loss: 0.8909 - val_accuracy: 0.8151 - 3s/epoch - 5ms/step\n",
            "Epoch 28/30\n",
            "625/625 - 3s - loss: 0.0383 - accuracy: 0.9884 - val_loss: 0.9177 - val_accuracy: 0.8120 - 3s/epoch - 5ms/step\n",
            "Epoch 29/30\n",
            "625/625 - 3s - loss: 0.0336 - accuracy: 0.9908 - val_loss: 0.9564 - val_accuracy: 0.8101 - 3s/epoch - 5ms/step\n",
            "Epoch 30/30\n",
            "625/625 - 3s - loss: 0.0338 - accuracy: 0.9905 - val_loss: 0.9908 - val_accuracy: 0.8095 - 3s/epoch - 5ms/step\n"
          ]
        }
      ]
    },
    {
      "cell_type": "markdown",
      "metadata": {
        "id": "35BigeicGmRo"
      },
      "source": [
        "## Visualise the train & validation accuracy and loss"
      ]
    },
    {
      "cell_type": "code",
      "metadata": {
        "colab": {
          "base_uri": "https://localhost:8080/",
          "height": 541
        },
        "id": "iMQAQr-uehOD",
        "outputId": "5b562f81-3e6f-49ed-a362-4a701cea984b"
      },
      "source": [
        "import matplotlib.pyplot as plt\n",
        "\n",
        "##plot the scores from history\n",
        "def plot_graphs(history, string):\n",
        "  plt.plot(history.history[string])\n",
        "  plt.plot(history.history['val_'+string])\n",
        "  plt.legend([string, 'val_'+string])\n",
        "  plt.xlabel(\"Epochs\")\n",
        "  plt.ylabel(string)\n",
        "  plt.show()\n",
        "  \n",
        "plot_graphs(history, \"accuracy\")\n",
        "plot_graphs(history, \"loss\")"
      ],
      "execution_count": 23,
      "outputs": [
        {
          "output_type": "display_data",
          "data": {
            "text/plain": [
              "<Figure size 432x288 with 1 Axes>"
            ],
            "image/png": "[encoded data removed]"
          },
          "metadata": {
            "needs_background": "light"
          }
        },
        {
          "output_type": "display_data",
          "data": {
            "text/plain": [
              "<Figure size 432x288 with 1 Axes>"
            ],
            "image/png": "[encoded data removed]"
          },
          "metadata": {
            "needs_background": "light"
          }
        }
      ]
    },
    {
      "cell_type": "markdown",
      "metadata": {
        "id": "FLuGAkBaGzaP"
      },
      "source": [
        "## Classifying a new sentence"
      ]
    },
    {
      "cell_type": "code",
      "metadata": {
        "colab": {
          "base_uri": "https://localhost:8080/"
        },
        "id": "2cVc8w-tejyj",
        "outputId": "e3a81299-d278-427e-e9df-19a678cc6ac8"
      },
      "source": [
        "sentence = [\"the baby boy fears spiders in the garden might be real\", \"game of thrones season finale showing this sunday night\"]\n",
        "\n",
        "##prepare the sequences of the sentences in question\n",
        "sequences = tokenizer.texts_to_sequences(sentence)\n",
        "padded_seqs = pad_sequences(sequences, maxlen=max_length, padding=padding_type, truncating=trunc_type)\n",
        "# Result shows if its sarcastic or not \n",
        "print(model.predict(padded_seqs))"
      ],
      "execution_count": 25,
      "outputs": [
        {
          "output_type": "stream",
          "name": "stdout",
          "text": [
            "1/1 [==============================] - 0s 18ms/step\n",
            "[[1.0830174e-05]\n",
            " [1.5636914e-06]]\n"
          ]
        }
      ]
    },
    {
      "cell_type": "code",
      "metadata": {
        "id": "CwT0yxfRgZY_"
      },
      "source": [],
      "execution_count": null,
      "outputs": []
    }
  ]
}